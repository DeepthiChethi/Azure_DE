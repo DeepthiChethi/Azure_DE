{
 "cells": [
  {
   "cell_type": "markdown",
   "metadata": {
    "application/vnd.databricks.v1+cell": {
     "cellMetadata": {},
     "inputWidgets": {},
     "nuid": "a52d0334-bca1-45df-a5bd-57e0e9a6e771",
     "showTitle": false,
     "tableResultSettingsMap": {},
     "title": ""
    }
   },
   "source": [
    "1. Import Libraries"
   ]
  },
  {
   "cell_type": "code",
   "execution_count": 0,
   "metadata": {
    "application/vnd.databricks.v1+cell": {
     "cellMetadata": {
      "byteLimit": 2048000,
      "rowLimit": 10000
     },
     "inputWidgets": {},
     "nuid": "cd70cb27-6d00-48fc-b65e-6bd7ae99c61e",
     "showTitle": false,
     "tableResultSettingsMap": {},
     "title": ""
    }
   },
   "outputs": [],
   "source": [
    "from pyspark.sql import SparkSession\n",
    "from pyspark.sql.functions import col, to_date, current_timestamp\n",
    "import pyspark.sql.functions as F\n"
   ]
  },
  {
   "cell_type": "markdown",
   "metadata": {
    "application/vnd.databricks.v1+cell": {
     "cellMetadata": {},
     "inputWidgets": {},
     "nuid": "7d35ff6d-49b8-4d2a-aacb-79e0aa8f271a",
     "showTitle": false,
     "tableResultSettingsMap": {},
     "title": ""
    }
   },
   "source": [
    "2. Read Files (with InferSchema)"
   ]
  },
  {
   "cell_type": "code",
   "execution_count": 0,
   "metadata": {
    "application/vnd.databricks.v1+cell": {
     "cellMetadata": {
      "byteLimit": 2048000,
      "rowLimit": 10000
     },
     "inputWidgets": {},
     "nuid": "5612eec6-38aa-4ae8-81ac-172784fc6b40",
     "showTitle": false,
     "tableResultSettingsMap": {},
     "title": ""
    }
   },
   "outputs": [],
   "source": [
    "# Read all 5 files from Bronze (Raw) Layer\n",
    "accounts_df = spark.read.format(\"csv\")\\\n",
    "    .option(\"header\", \"true\")\\\n",
    "    .option(\"inferSchema\", \"true\")\\\n",
    "    .load(\"/mnt/project2/bronze/accounts.csv\")\n",
    "\n",
    "customers_df = spark.read.format(\"csv\")\\\n",
    "    .option(\"header\", \"true\")\\\n",
    "    .option(\"inferSchema\", \"true\")\\\n",
    "    .load(\"/mnt/project2/bronze/customers.csv\")\n",
    "\n",
    "loans_df = spark.read.format(\"csv\")\\\n",
    "    .option(\"header\", \"true\")\\\n",
    "    .option(\"inferSchema\", \"true\")\\\n",
    "    .load(\"/mnt/project2/bronze/loans.csv\")\n",
    "\n",
    "loan_payments_df = spark.read.format(\"csv\")\\\n",
    "    .option(\"header\", \"true\")\\\n",
    "    .option(\"inferSchema\", \"true\")\\\n",
    "    .load(\"/mnt/project2/bronze/loan_payments.csv\")\n",
    "\n",
    "transactions_df = spark.read.format(\"csv\")\\\n",
    "    .option(\"header\", \"true\")\\\n",
    "    .option(\"inferSchema\", \"true\")\\\n",
    "    .load(\"/mnt/project2/bronze/transactions.csv\")\n"
   ]
  },
  {
   "cell_type": "markdown",
   "metadata": {
    "application/vnd.databricks.v1+cell": {
     "cellMetadata": {},
     "inputWidgets": {},
     "nuid": "65353a0f-411a-47ba-99a9-67613fde746a",
     "showTitle": false,
     "tableResultSettingsMap": {},
     "title": ""
    }
   },
   "source": [
    "3. Clean and Transform Files"
   ]
  },
  {
   "cell_type": "code",
   "execution_count": 0,
   "metadata": {
    "application/vnd.databricks.v1+cell": {
     "cellMetadata": {
      "byteLimit": 2048000,
      "rowLimit": 10000
     },
     "inputWidgets": {},
     "nuid": "0d44559f-d585-457d-98a5-c5538522c334",
     "showTitle": false,
     "tableResultSettingsMap": {},
     "title": ""
    }
   },
   "outputs": [],
   "source": [
    "# Accounts - Drop Duplicates and Nulls\n",
    "accounts_df = accounts_df.dropDuplicates([\"account_id\"]).dropna(subset=[\"account_id\", \"customer_id\"])\n",
    "\n",
    "# Customers - Drop Duplicates and Nulls\n",
    "customers_df = customers_df.dropDuplicates([\"customer_id\"]).dropna(subset=[\"customer_id\"])\n",
    "\n",
    "# Loans - Drop Duplicates and Nulls\n",
    "loans_df = loans_df.dropDuplicates([\"loan_id\"]).dropna(subset=[\"loan_id\", \"customer_id\"])\n",
    "\n",
    "# Loan Payments - Drop Duplicates and Nulls\n",
    "loan_payments_df = loan_payments_df.dropDuplicates([\"payment_id\"]).dropna(subset=[\"payment_id\", \"loan_id\"])\n",
    "\n",
    "# Transactions - Drop Duplicates and Nulls\n",
    "transactions_df = transactions_df.dropDuplicates([\"transaction_id\"]).dropna(subset=[\"transaction_id\", \"account_id\"])\n"
   ]
  },
  {
   "cell_type": "markdown",
   "metadata": {
    "application/vnd.databricks.v1+cell": {
     "cellMetadata": {},
     "inputWidgets": {},
     "nuid": "c66bc2ec-53f7-4cdd-b23b-72ebe8a92f61",
     "showTitle": false,
     "tableResultSettingsMap": {},
     "title": ""
    }
   },
   "source": [
    "4. Handle Dates Properly"
   ]
  },
  {
   "cell_type": "code",
   "execution_count": 0,
   "metadata": {
    "application/vnd.databricks.v1+cell": {
     "cellMetadata": {
      "byteLimit": 2048000,
      "rowLimit": 10000
     },
     "inputWidgets": {},
     "nuid": "b832f71d-a88f-4764-8068-2dc20fbf8641",
     "showTitle": false,
     "tableResultSettingsMap": {},
     "title": ""
    }
   },
   "outputs": [],
   "source": [
    "\n",
    "# Loan Payments - Payment Date\n",
    "loan_payments_df = loan_payments_df.withColumn(\"payment_date\", to_date(col(\"payment_date\"), \"yyyy-MM-dd\"))\n",
    "\n",
    "# Transactions - Transaction Date\n",
    "transactions_df = transactions_df.withColumn(\"transaction_date\", to_date(col(\"transaction_date\"), \"yyyy-MM-dd\"))\n"
   ]
  },
  {
   "cell_type": "markdown",
   "metadata": {
    "application/vnd.databricks.v1+cell": {
     "cellMetadata": {},
     "inputWidgets": {},
     "nuid": "1ef5e200-c985-47e9-b7d4-f5b3f833a403",
     "showTitle": false,
     "tableResultSettingsMap": {},
     "title": ""
    }
   },
   "source": [
    "5. Save Cleaned Files (Parquet in Silver Layer)"
   ]
  },
  {
   "cell_type": "code",
   "execution_count": 0,
   "metadata": {
    "application/vnd.databricks.v1+cell": {
     "cellMetadata": {
      "byteLimit": 2048000,
      "rowLimit": 10000
     },
     "inputWidgets": {},
     "nuid": "dac78e61-4b50-4a65-9e20-21faa09f5121",
     "showTitle": false,
     "tableResultSettingsMap": {},
     "title": ""
    }
   },
   "outputs": [],
   "source": [
    "accounts_df.write.format(\"delta\").mode(\"overwrite\").save(\"/mnt/project2/silver/accounts_cleaned\")\n",
    "customers_df.write.format(\"delta\").mode(\"overwrite\").save(\"/mnt/project2/silver/customers_cleaned\")\n",
    "loans_df.write.format(\"delta\").mode(\"overwrite\").save(\"/mnt/project2/silver/loans_cleaned\")\n",
    "loan_payments_df.write.format(\"delta\").mode(\"overwrite\").save(\"/mnt/project2/silver/loan_payments_cleaned\")\n",
    "transactions_df.write.format(\"delta\").mode(\"overwrite\").save(\"/mnt/project2/silver/transactions_cleaned\")"
   ]
  },
  {
   "cell_type": "markdown",
   "metadata": {
    "application/vnd.databricks.v1+cell": {
     "cellMetadata": {},
     "inputWidgets": {},
     "nuid": "ff5b6823-f508-4c52-b951-c4871b4db111",
     "showTitle": false,
     "tableResultSettingsMap": {},
     "title": ""
    }
   },
   "source": [
    "6. Merge Files (Final Cleaned Data Creation)"
   ]
  },
  {
   "cell_type": "code",
   "execution_count": 0,
   "metadata": {
    "application/vnd.databricks.v1+cell": {
     "cellMetadata": {
      "byteLimit": 2048000,
      "rowLimit": 10000
     },
     "inputWidgets": {},
     "nuid": "669b6a9b-93fb-40b6-8303-d463c668dd97",
     "showTitle": false,
     "tableResultSettingsMap": {},
     "title": ""
    }
   },
   "outputs": [
    {
     "output_type": "display_data",
     "data": {
      "text/html": [
       "<style scoped>\n",
       "  .table-result-container {\n",
       "    max-height: 300px;\n",
       "    overflow: auto;\n",
       "  }\n",
       "  table, th, td {\n",
       "    border: 1px solid black;\n",
       "    border-collapse: collapse;\n",
       "  }\n",
       "  th, td {\n",
       "    padding: 5px;\n",
       "  }\n",
       "  th {\n",
       "    text-align: left;\n",
       "  }\n",
       "</style><div class='table-result-container'><table class='table-result'><thead style='background-color: white'><tr><th>account_id</th><th>transaction_id</th><th>customer_id</th><th>loan_id</th><th>payment_id</th><th>transaction_amount</th><th>transaction_date</th><th>payment_amount</th><th>payment_date</th><th>loan_amount</th></tr></thead><tbody><tr><td>50</td><td>100</td><td>31</td><td>50</td><td>59</td><td>375.25</td><td>2024-04-09</td><td>3000.0</td><td>2024-02-28</td><td>37500.5</td></tr><tr><td>33</td><td>70</td><td>85</td><td>33</td><td>100</td><td>375.25</td><td>2024-03-10</td><td>1000.0</td><td>2024-04-10</td><td>15000.25</td></tr><tr><td>85</td><td>33</td><td>65</td><td>85</td><td>44</td><td>150.0</td><td>2024-02-02</td><td>2250.0</td><td>2024-02-13</td><td>25000.25</td></tr><tr><td>21</td><td>20</td><td>53</td><td>21</td><td>20</td><td>375.25</td><td>2024-01-20</td><td>1050.0</td><td>2024-01-20</td><td>10000.25</td></tr><tr><td>3</td><td>11</td><td>78</td><td>3</td><td>82</td><td>100.5</td><td>2024-01-11</td><td>4150.0</td><td>2024-03-22</td><td>15000.0</td></tr><tr><td>4</td><td>78</td><td>34</td><td>4</td><td>73</td><td>275.75</td><td>2024-03-18</td><td>3700.0</td><td>2024-03-13</td><td>30000.25</td></tr><tr><td>12</td><td>2</td><td>81</td><td>12</td><td>5</td><td>200.75</td><td>2024-01-02</td><td>300.0</td><td>2024-01-05</td><td>20000.0</td></tr><tr><td>56</td><td>5</td><td>28</td><td>56</td><td>7</td><td>250.0</td><td>2024-01-05</td><td>400.0</td><td>2024-01-07</td><td>17500.0</td></tr><tr><td>19</td><td>40</td><td>76</td><td>19</td><td>38</td><td>375.25</td><td>2024-02-09</td><td>1950.0</td><td>2024-02-07</td><td>32500.75</td></tr><tr><td>66</td><td>25</td><td>26</td><td>66</td><td>15</td><td>250.0</td><td>2024-01-25</td><td>800.0</td><td>2024-01-15</td><td>17500.5</td></tr><tr><td>36</td><td>42</td><td>27</td><td>36</td><td>85</td><td>200.75</td><td>2024-02-11</td><td>4300.0</td><td>2024-03-25</td><td>17500.0</td></tr><tr><td>92</td><td>10</td><td>44</td><td>92</td><td>81</td><td>375.25</td><td>2024-01-10</td><td>4100.0</td><td>2024-03-21</td><td>20000.0</td></tr><tr><td>2</td><td>82</td><td>12</td><td>2</td><td>91</td><td>200.75</td><td>2024-03-22</td><td>4600.0</td><td>2024-03-31</td><td>20000.75</td></tr><tr><td>76</td><td>19</td><td>22</td><td>76</td><td>25</td><td>325.0</td><td>2024-01-19</td><td>1300.0</td><td>2024-01-25</td><td>17500.0</td></tr><tr><td>15</td><td>38</td><td>47</td><td>15</td><td>74</td><td>275.75</td><td>2024-02-07</td><td>3750.0</td><td>2024-03-14</td><td>25000.75</td></tr><tr><td>88</td><td>23</td><td>1</td><td>88</td><td>17</td><td>150.0</td><td>2024-01-23</td><td>900.0</td><td>2024-01-17</td><td>27500.0</td></tr><tr><td>61</td><td>75</td><td>52</td><td>61</td><td>60</td><td>250.0</td><td>2024-03-15</td><td>3050.0</td><td>2024-02-29</td><td>10000.25</td></tr><tr><td>44</td><td>92</td><td>13</td><td>44</td><td>13</td><td>200.75</td><td>2024-04-01</td><td>700.0</td><td>2024-01-13</td><td>30000.0</td></tr><tr><td>48</td><td>96</td><td>6</td><td>48</td><td>77</td><td>175.0</td><td>2024-04-05</td><td>3900.0</td><td>2024-03-17</td><td>27500.0</td></tr><tr><td>58</td><td>29</td><td>16</td><td>58</td><td>87</td><td>325.0</td><td>2024-01-29</td><td>4400.0</td><td>2024-03-27</td><td>27500.5</td></tr><tr><td>53</td><td>21</td><td>86</td><td>53</td><td>32</td><td>100.5</td><td>2024-01-21</td><td>1650.0</td><td>2024-02-01</td><td>15000.25</td></tr><tr><td>11</td><td>24</td><td>3</td><td>11</td><td>10</td><td>300.25</td><td>2024-01-24</td><td>550.0</td><td>2024-01-10</td><td>10000.75</td></tr><tr><td>60</td><td>95</td><td>20</td><td>60</td><td>69</td><td>250.0</td><td>2024-04-04</td><td>3500.0</td><td>2024-03-09</td><td>37500.0</td></tr><tr><td>84</td><td>63</td><td>40</td><td>84</td><td>53</td><td>150.0</td><td>2024-03-03</td><td>2700.0</td><td>2024-02-22</td><td>30000.0</td></tr><tr><td>49</td><td>98</td><td>57</td><td>49</td><td>68</td><td>275.75</td><td>2024-04-07</td><td>3450.0</td><td>2024-03-08</td><td>32500.25</td></tr><tr><td>89</td><td>7</td><td>54</td><td>89</td><td>4</td><td>225.5</td><td>2024-01-07</td><td>250.0</td><td>2024-01-04</td><td>32500.25</td></tr><tr><td>96</td><td>67</td><td>48</td><td>96</td><td>45</td><td>225.5</td><td>2024-03-07</td><td>2300.0</td><td>2024-02-14</td><td>17500.0</td></tr><tr><td>18</td><td>16</td><td>5</td><td>18</td><td>47</td><td>175.0</td><td>2024-01-16</td><td>2400.0</td><td>2024-02-16</td><td>27500.5</td></tr><tr><td>40</td><td>84</td><td>19</td><td>40</td><td>49</td><td>300.25</td><td>2024-03-24</td><td>2500.0</td><td>2024-02-18</td><td>37500.0</td></tr><tr><td>14</td><td>9</td><td>64</td><td>14</td><td>83</td><td>325.0</td><td>2024-01-09</td><td>4200.0</td><td>2024-03-23</td><td>30000.5</td></tr><tr><td>34</td><td>4</td><td>41</td><td>34</td><td>6</td><td>300.25</td><td>2024-01-04</td><td>350.0</td><td>2024-01-06</td><td>30000.5</td></tr><tr><td>38</td><td>90</td><td>15</td><td>38</td><td>67</td><td>375.25</td><td>2024-03-30</td><td>3400.0</td><td>2024-03-07</td><td>27500.5</td></tr><tr><td>74</td><td>39</td><td>43</td><td>74</td><td>43</td><td>325.0</td><td>2024-02-08</td><td>2200.0</td><td>2024-02-12</td><td>30000.5</td></tr><tr><td>22</td><td>76</td><td>37</td><td>22</td><td>11</td><td>175.0</td><td>2024-03-16</td><td>600.0</td><td>2024-01-11</td><td>20000.5</td></tr><tr><td>75</td><td>59</td><td>61</td><td>75</td><td>34</td><td>325.0</td><td>2024-02-28</td><td>1750.0</td><td>2024-02-03</td><td>25000.75</td></tr><tr><td>32</td><td>30</td><td>9</td><td>32</td><td>21</td><td>375.25</td><td>2024-01-30</td><td>1100.0</td><td>2024-01-21</td><td>20000.0</td></tr><tr><td>72</td><td>51</td><td>17</td><td>72</td><td>61</td><td>100.5</td><td>2024-02-20</td><td>3100.0</td><td>2024-03-01</td><td>20000.0</td></tr><tr><td>51</td><td>41</td><td>72</td><td>51</td><td>50</td><td>100.5</td><td>2024-02-10</td><td>2550.0</td><td>2024-02-19</td><td>10000.75</td></tr><tr><td>62</td><td>35</td><td>35</td><td>62</td><td>51</td><td>250.0</td><td>2024-02-04</td><td>2600.0</td><td>2024-02-20</td><td>20000.5</td></tr><tr><td>78</td><td>3</td><td>4</td><td>78</td><td>8</td><td>150.0</td><td>2024-01-03</td><td>450.0</td><td>2024-01-08</td><td>27500.5</td></tr><tr><td>79</td><td>93</td><td>55</td><td>79</td><td>98</td><td>150.0</td><td>2024-04-02</td><td>4950.0</td><td>2024-04-07</td><td>32500.75</td></tr><tr><td>69</td><td>65</td><td>59</td><td>69</td><td>88</td><td>250.0</td><td>2024-03-05</td><td>4450.0</td><td>2024-03-28</td><td>32500.25</td></tr><tr><td>68</td><td>45</td><td>8</td><td>68</td><td>97</td><td>250.0</td><td>2024-02-14</td><td>4900.0</td><td>2024-04-06</td><td>27500.0</td></tr><tr><td>6</td><td>48</td><td>23</td><td>6</td><td>55</td><td>275.75</td><td>2024-02-17</td><td>2800.0</td><td>2024-02-24</td><td>17500.5</td></tr><tr><td>94</td><td>27</td><td>39</td><td>94</td><td>63</td><td>225.5</td><td>2024-01-27</td><td>3200.0</td><td>2024-03-03</td><td>30000.5</td></tr><tr><td>98</td><td>37</td><td>49</td><td>98</td><td>27</td><td>225.5</td><td>2024-02-06</td><td>1400.0</td><td>2024-01-27</td><td>27500.5</td></tr><tr><td>28</td><td>56</td><td>7</td><td>28</td><td>57</td><td>175.0</td><td>2024-02-25</td><td>2900.0</td><td>2024-02-26</td><td>27500.0</td></tr><tr><td>63</td><td>55</td><td>84</td><td>63</td><td>42</td><td>250.0</td><td>2024-02-24</td><td>2150.0</td><td>2024-02-11</td><td>15000.75</td></tr><tr><td>73</td><td>71</td><td>87</td><td>73</td><td>52</td><td>100.5</td><td>2024-03-11</td><td>2650.0</td><td>2024-02-21</td><td>15000.25</td></tr><tr><td>41</td><td>34</td><td>51</td><td>41</td><td>40</td><td>300.25</td><td>2024-02-03</td><td>2050.0</td><td>2024-02-09</td><td>10000.25</td></tr><tr><td>65</td><td>85</td><td>69</td><td>65</td><td>24</td><td>250.0</td><td>2024-03-25</td><td>1250.0</td><td>2024-01-24</td><td>25000.25</td></tr><tr><td>55</td><td>79</td><td>63</td><td>55</td><td>14</td><td>325.0</td><td>2024-03-19</td><td>750.0</td><td>2024-01-14</td><td>25000.75</td></tr><tr><td>52</td><td>61</td><td>10</td><td>52</td><td>41</td><td>100.5</td><td>2024-03-01</td><td>2100.0</td><td>2024-02-10</td><td>20000.0</td></tr><tr><td>91</td><td>77</td><td>77</td><td>91</td><td>90</td><td>225.5</td><td>2024-03-17</td><td>4550.0</td><td>2024-03-30</td><td>10000.75</td></tr><tr><td>1</td><td>88</td><td>45</td><td>1</td><td>99</td><td>275.75</td><td>2024-03-28</td><td>5000.0</td><td>2024-04-08</td><td>10000.5</td></tr><tr><td>90</td><td>97</td><td>38</td><td>90</td><td>9</td><td>225.5</td><td>2024-04-06</td><td>500.0</td><td>2024-01-09</td><td>37500.5</td></tr><tr><td>83</td><td>43</td><td>82</td><td>83</td><td>62</td><td>150.0</td><td>2024-02-12</td><td>3150.0</td><td>2024-03-02</td><td>15000.75</td></tr><tr><td>99</td><td>17</td><td>80</td><td>99</td><td>18</td><td>225.5</td><td>2024-01-17</td><td>950.0</td><td>2024-01-18</td><td>32500.75</td></tr><tr><td>26</td><td>66</td><td>25</td><td>26</td><td>75</td><td>175.0</td><td>2024-03-06</td><td>3800.0</td><td>2024-03-15</td><td>17500.5</td></tr><tr><td>71</td><td>31</td><td>73</td><td>71</td><td>70</td><td>100.5</td><td>2024-01-31</td><td>3550.0</td><td>2024-03-10</td><td>10000.75</td></tr><tr><td>81</td><td>12</td><td>70</td><td>81</td><td>80</td><td>200.75</td><td>2024-01-12</td><td>4050.0</td><td>2024-03-20</td><td>10000.25</td></tr><tr><td>35</td><td>62</td><td>62</td><td>35</td><td>94</td><td>200.75</td><td>2024-03-02</td><td>4750.0</td><td>2024-04-03</td><td>25000.75</td></tr><tr><td>13</td><td>44</td><td>29</td><td>13</td><td>92</td><td>300.25</td><td>2024-02-13</td><td>4650.0</td><td>2024-04-01</td><td>15000.25</td></tr><tr><td>20</td><td>60</td><td>21</td><td>20</td><td>29</td><td>375.25</td><td>2024-02-29</td><td>1500.0</td><td>2024-01-29</td><td>37500.0</td></tr><tr><td>30</td><td>80</td><td>32</td><td>30</td><td>39</td><td>375.25</td><td>2024-03-20</td><td>2000.0</td><td>2024-02-08</td><td>37500.5</td></tr><tr><td>95</td><td>47</td><td>60</td><td>95</td><td>54</td><td>225.5</td><td>2024-02-16</td><td>2750.0</td><td>2024-02-23</td><td>25000.75</td></tr><tr><td>59</td><td>69</td><td>75</td><td>59</td><td>78</td><td>325.0</td><td>2024-03-09</td><td>3950.0</td><td>2024-03-18</td><td>32500.75</td></tr><tr><td>5</td><td>18</td><td>56</td><td>5</td><td>64</td><td>275.75</td><td>2024-01-18</td><td>3250.0</td><td>2024-03-04</td><td>25000.0</td></tr><tr><td>29</td><td>13</td><td>58</td><td>29</td><td>48</td><td>150.0</td><td>2024-01-13</td><td>2450.0</td><td>2024-02-17</td><td>32500.25</td></tr><tr><td>24</td><td>46</td><td>11</td><td>24</td><td>93</td><td>175.0</td><td>2024-02-15</td><td>4700.0</td><td>2024-04-02</td><td>30000.0</td></tr><tr><td>70</td><td>81</td><td>33</td><td>70</td><td>79</td><td>100.5</td><td>2024-03-21</td><td>4000.0</td><td>2024-03-19</td><td>37500.5</td></tr><tr><td>43</td><td>74</td><td>83</td><td>43</td><td>22</td><td>300.25</td><td>2024-03-14</td><td>1150.0</td><td>2024-01-22</td><td>15000.75</td></tr><tr><td>45</td><td>1</td><td>68</td><td>45</td><td>1</td><td>100.5</td><td>2024-01-01</td><td>100.0</td><td>2024-01-01</td><td>25000.25</td></tr><tr><td>31</td><td>50</td><td>71</td><td>31</td><td>30</td><td>375.25</td><td>2024-02-19</td><td>1550.0</td><td>2024-01-30</td><td>10000.75</td></tr><tr><td>9</td><td>32</td><td>14</td><td>9</td><td>28</td><td>200.75</td><td>2024-02-01</td><td>1450.0</td><td>2024-01-28</td><td>32500.25</td></tr><tr><td>54</td><td>89</td><td>42</td><td>54</td><td>23</td><td>325.0</td><td>2024-03-29</td><td>1200.0</td><td>2024-01-23</td><td>30000.5</td></tr><tr><td>82</td><td>83</td><td>2</td><td>82</td><td>71</td><td>150.0</td><td>2024-03-23</td><td>3600.0</td><td>2024-03-11</td><td>20000.5</td></tr><tr><td>93</td><td>87</td><td>79</td><td>93</td><td>72</td><td>225.5</td><td>2024-03-27</td><td>3650.0</td><td>2024-03-12</td><td>15000.25</td></tr><tr><td>80</td><td>99</td><td>30</td><td>80</td><td>89</td><td>325.0</td><td>2024-04-08</td><td>4500.0</td><td>2024-03-29</td><td>37500.0</td></tr><tr><td>25</td><td>26</td><td>66</td><td>25</td><td>84</td><td>175.0</td><td>2024-01-26</td><td>4250.0</td><td>2024-03-24</td><td>25000.25</td></tr><tr><td>8</td><td>68</td><td>67</td><td>8</td><td>37</td><td>275.75</td><td>2024-03-08</td><td>1900.0</td><td>2024-02-06</td><td>27500.0</td></tr><tr><td>16</td><td>58</td><td>18</td><td>16</td><td>65</td><td>275.75</td><td>2024-02-27</td><td>3300.0</td><td>2024-03-05</td><td>17500.0</td></tr><tr><td>39</td><td>94</td><td>74</td><td>39</td><td>58</td><td>300.25</td><td>2024-04-03</td><td>2950.0</td><td>2024-02-27</td><td>32500.75</td></tr><tr><td>42</td><td>54</td><td>36</td><td>42</td><td>31</td><td>300.25</td><td>2024-02-23</td><td>1600.0</td><td>2024-01-31</td><td>20000.5</td></tr><tr><td>46</td><td>null</td><td>24</td><td>46</td><td>95</td><td>null</td><td>null</td><td>4800.0</td><td>2024-04-04</td><td>17500.5</td></tr><tr><td>100</td><td>null</td><td>50</td><td>100</td><td>null</td><td>null</td><td>null</td><td>null</td><td>null</td><td>37500.0</td></tr><tr><td>64</td><td>14</td><td>12</td><td>2</td><td>91</td><td>300.25</td><td>2024-01-14</td><td>4600.0</td><td>2024-03-31</td><td>20000.75</td></tr><tr><td>86</td><td>53</td><td>21</td><td>20</td><td>29</td><td>150.0</td><td>2024-02-22</td><td>1500.0</td><td>2024-01-29</td><td>37500.0</td></tr><tr><td>2</td><td>82</td><td>12</td><td>64</td><td>33</td><td>200.75</td><td>2024-03-22</td><td>1700.0</td><td>2024-02-02</td><td>30000.0</td></tr><tr><td>20</td><td>60</td><td>21</td><td>86</td><td>35</td><td>375.25</td><td>2024-02-29</td><td>1800.0</td><td>2024-02-04</td><td>17500.5</td></tr><tr><td>64</td><td>14</td><td>12</td><td>64</td><td>33</td><td>300.25</td><td>2024-01-14</td><td>1700.0</td><td>2024-02-02</td><td>30000.0</td></tr><tr><td>86</td><td>53</td><td>21</td><td>86</td><td>35</td><td>150.0</td><td>2024-02-22</td><td>1800.0</td><td>2024-02-04</td><td>17500.5</td></tr><tr><td>33</td><td>70</td><td>85</td><td>33</td><td>12</td><td>375.25</td><td>2024-03-10</td><td>650.0</td><td>2024-01-12</td><td>15000.25</td></tr><tr><td>21</td><td>86</td><td>53</td><td>21</td><td>20</td><td>175.0</td><td>2024-03-26</td><td>1050.0</td><td>2024-01-20</td><td>10000.25</td></tr><tr><td>12</td><td>64</td><td>81</td><td>12</td><td>5</td><td>300.25</td><td>2024-03-04</td><td>300.0</td><td>2024-01-05</td><td>20000.0</td></tr></tbody></table></div>"
      ]
     },
     "metadata": {
      "application/vnd.databricks.v1+output": {
       "addedWidgets": {},
       "aggData": [],
       "aggError": "",
       "aggOverflow": false,
       "aggSchema": [],
       "aggSeriesLimitReached": false,
       "aggType": "",
       "arguments": {},
       "columnCustomDisplayInfos": {},
       "data": [
        [
         50,
         100,
         31,
         50,
         59,
         375.25,
         "2024-04-09",
         3000.0,
         "2024-02-28",
         37500.5
        ],
        [
         33,
         70,
         85,
         33,
         100,
         375.25,
         "2024-03-10",
         1000.0,
         "2024-04-10",
         15000.25
        ],
        [
         85,
         33,
         65,
         85,
         44,
         150.0,
         "2024-02-02",
         2250.0,
         "2024-02-13",
         25000.25
        ],
        [
         21,
         20,
         53,
         21,
         20,
         375.25,
         "2024-01-20",
         1050.0,
         "2024-01-20",
         10000.25
        ],
        [
         3,
         11,
         78,
         3,
         82,
         100.5,
         "2024-01-11",
         4150.0,
         "2024-03-22",
         15000.0
        ],
        [
         4,
         78,
         34,
         4,
         73,
         275.75,
         "2024-03-18",
         3700.0,
         "2024-03-13",
         30000.25
        ],
        [
         12,
         2,
         81,
         12,
         5,
         200.75,
         "2024-01-02",
         300.0,
         "2024-01-05",
         20000.0
        ],
        [
         56,
         5,
         28,
         56,
         7,
         250.0,
         "2024-01-05",
         400.0,
         "2024-01-07",
         17500.0
        ],
        [
         19,
         40,
         76,
         19,
         38,
         375.25,
         "2024-02-09",
         1950.0,
         "2024-02-07",
         32500.75
        ],
        [
         66,
         25,
         26,
         66,
         15,
         250.0,
         "2024-01-25",
         800.0,
         "2024-01-15",
         17500.5
        ],
        [
         36,
         42,
         27,
         36,
         85,
         200.75,
         "2024-02-11",
         4300.0,
         "2024-03-25",
         17500.0
        ],
        [
         92,
         10,
         44,
         92,
         81,
         375.25,
         "2024-01-10",
         4100.0,
         "2024-03-21",
         20000.0
        ],
        [
         2,
         82,
         12,
         2,
         91,
         200.75,
         "2024-03-22",
         4600.0,
         "2024-03-31",
         20000.75
        ],
        [
         76,
         19,
         22,
         76,
         25,
         325.0,
         "2024-01-19",
         1300.0,
         "2024-01-25",
         17500.0
        ],
        [
         15,
         38,
         47,
         15,
         74,
         275.75,
         "2024-02-07",
         3750.0,
         "2024-03-14",
         25000.75
        ],
        [
         88,
         23,
         1,
         88,
         17,
         150.0,
         "2024-01-23",
         900.0,
         "2024-01-17",
         27500.0
        ],
        [
         61,
         75,
         52,
         61,
         60,
         250.0,
         "2024-03-15",
         3050.0,
         "2024-02-29",
         10000.25
        ],
        [
         44,
         92,
         13,
         44,
         13,
         200.75,
         "2024-04-01",
         700.0,
         "2024-01-13",
         30000.0
        ],
        [
         48,
         96,
         6,
         48,
         77,
         175.0,
         "2024-04-05",
         3900.0,
         "2024-03-17",
         27500.0
        ],
        [
         58,
         29,
         16,
         58,
         87,
         325.0,
         "2024-01-29",
         4400.0,
         "2024-03-27",
         27500.5
        ],
        [
         53,
         21,
         86,
         53,
         32,
         100.5,
         "2024-01-21",
         1650.0,
         "2024-02-01",
         15000.25
        ],
        [
         11,
         24,
         3,
         11,
         10,
         300.25,
         "2024-01-24",
         550.0,
         "2024-01-10",
         10000.75
        ],
        [
         60,
         95,
         20,
         60,
         69,
         250.0,
         "2024-04-04",
         3500.0,
         "2024-03-09",
         37500.0
        ],
        [
         84,
         63,
         40,
         84,
         53,
         150.0,
         "2024-03-03",
         2700.0,
         "2024-02-22",
         30000.0
        ],
        [
         49,
         98,
         57,
         49,
         68,
         275.75,
         "2024-04-07",
         3450.0,
         "2024-03-08",
         32500.25
        ],
        [
         89,
         7,
         54,
         89,
         4,
         225.5,
         "2024-01-07",
         250.0,
         "2024-01-04",
         32500.25
        ],
        [
         96,
         67,
         48,
         96,
         45,
         225.5,
         "2024-03-07",
         2300.0,
         "2024-02-14",
         17500.0
        ],
        [
         18,
         16,
         5,
         18,
         47,
         175.0,
         "2024-01-16",
         2400.0,
         "2024-02-16",
         27500.5
        ],
        [
         40,
         84,
         19,
         40,
         49,
         300.25,
         "2024-03-24",
         2500.0,
         "2024-02-18",
         37500.0
        ],
        [
         14,
         9,
         64,
         14,
         83,
         325.0,
         "2024-01-09",
         4200.0,
         "2024-03-23",
         30000.5
        ],
        [
         34,
         4,
         41,
         34,
         6,
         300.25,
         "2024-01-04",
         350.0,
         "2024-01-06",
         30000.5
        ],
        [
         38,
         90,
         15,
         38,
         67,
         375.25,
         "2024-03-30",
         3400.0,
         "2024-03-07",
         27500.5
        ],
        [
         74,
         39,
         43,
         74,
         43,
         325.0,
         "2024-02-08",
         2200.0,
         "2024-02-12",
         30000.5
        ],
        [
         22,
         76,
         37,
         22,
         11,
         175.0,
         "2024-03-16",
         600.0,
         "2024-01-11",
         20000.5
        ],
        [
         75,
         59,
         61,
         75,
         34,
         325.0,
         "2024-02-28",
         1750.0,
         "2024-02-03",
         25000.75
        ],
        [
         32,
         30,
         9,
         32,
         21,
         375.25,
         "2024-01-30",
         1100.0,
         "2024-01-21",
         20000.0
        ],
        [
         72,
         51,
         17,
         72,
         61,
         100.5,
         "2024-02-20",
         3100.0,
         "2024-03-01",
         20000.0
        ],
        [
         51,
         41,
         72,
         51,
         50,
         100.5,
         "2024-02-10",
         2550.0,
         "2024-02-19",
         10000.75
        ],
        [
         62,
         35,
         35,
         62,
         51,
         250.0,
         "2024-02-04",
         2600.0,
         "2024-02-20",
         20000.5
        ],
        [
         78,
         3,
         4,
         78,
         8,
         150.0,
         "2024-01-03",
         450.0,
         "2024-01-08",
         27500.5
        ],
        [
         79,
         93,
         55,
         79,
         98,
         150.0,
         "2024-04-02",
         4950.0,
         "2024-04-07",
         32500.75
        ],
        [
         69,
         65,
         59,
         69,
         88,
         250.0,
         "2024-03-05",
         4450.0,
         "2024-03-28",
         32500.25
        ],
        [
         68,
         45,
         8,
         68,
         97,
         250.0,
         "2024-02-14",
         4900.0,
         "2024-04-06",
         27500.0
        ],
        [
         6,
         48,
         23,
         6,
         55,
         275.75,
         "2024-02-17",
         2800.0,
         "2024-02-24",
         17500.5
        ],
        [
         94,
         27,
         39,
         94,
         63,
         225.5,
         "2024-01-27",
         3200.0,
         "2024-03-03",
         30000.5
        ],
        [
         98,
         37,
         49,
         98,
         27,
         225.5,
         "2024-02-06",
         1400.0,
         "2024-01-27",
         27500.5
        ],
        [
         28,
         56,
         7,
         28,
         57,
         175.0,
         "2024-02-25",
         2900.0,
         "2024-02-26",
         27500.0
        ],
        [
         63,
         55,
         84,
         63,
         42,
         250.0,
         "2024-02-24",
         2150.0,
         "2024-02-11",
         15000.75
        ],
        [
         73,
         71,
         87,
         73,
         52,
         100.5,
         "2024-03-11",
         2650.0,
         "2024-02-21",
         15000.25
        ],
        [
         41,
         34,
         51,
         41,
         40,
         300.25,
         "2024-02-03",
         2050.0,
         "2024-02-09",
         10000.25
        ],
        [
         65,
         85,
         69,
         65,
         24,
         250.0,
         "2024-03-25",
         1250.0,
         "2024-01-24",
         25000.25
        ],
        [
         55,
         79,
         63,
         55,
         14,
         325.0,
         "2024-03-19",
         750.0,
         "2024-01-14",
         25000.75
        ],
        [
         52,
         61,
         10,
         52,
         41,
         100.5,
         "2024-03-01",
         2100.0,
         "2024-02-10",
         20000.0
        ],
        [
         91,
         77,
         77,
         91,
         90,
         225.5,
         "2024-03-17",
         4550.0,
         "2024-03-30",
         10000.75
        ],
        [
         1,
         88,
         45,
         1,
         99,
         275.75,
         "2024-03-28",
         5000.0,
         "2024-04-08",
         10000.5
        ],
        [
         90,
         97,
         38,
         90,
         9,
         225.5,
         "2024-04-06",
         500.0,
         "2024-01-09",
         37500.5
        ],
        [
         83,
         43,
         82,
         83,
         62,
         150.0,
         "2024-02-12",
         3150.0,
         "2024-03-02",
         15000.75
        ],
        [
         99,
         17,
         80,
         99,
         18,
         225.5,
         "2024-01-17",
         950.0,
         "2024-01-18",
         32500.75
        ],
        [
         26,
         66,
         25,
         26,
         75,
         175.0,
         "2024-03-06",
         3800.0,
         "2024-03-15",
         17500.5
        ],
        [
         71,
         31,
         73,
         71,
         70,
         100.5,
         "2024-01-31",
         3550.0,
         "2024-03-10",
         10000.75
        ],
        [
         81,
         12,
         70,
         81,
         80,
         200.75,
         "2024-01-12",
         4050.0,
         "2024-03-20",
         10000.25
        ],
        [
         35,
         62,
         62,
         35,
         94,
         200.75,
         "2024-03-02",
         4750.0,
         "2024-04-03",
         25000.75
        ],
        [
         13,
         44,
         29,
         13,
         92,
         300.25,
         "2024-02-13",
         4650.0,
         "2024-04-01",
         15000.25
        ],
        [
         20,
         60,
         21,
         20,
         29,
         375.25,
         "2024-02-29",
         1500.0,
         "2024-01-29",
         37500.0
        ],
        [
         30,
         80,
         32,
         30,
         39,
         375.25,
         "2024-03-20",
         2000.0,
         "2024-02-08",
         37500.5
        ],
        [
         95,
         47,
         60,
         95,
         54,
         225.5,
         "2024-02-16",
         2750.0,
         "2024-02-23",
         25000.75
        ],
        [
         59,
         69,
         75,
         59,
         78,
         325.0,
         "2024-03-09",
         3950.0,
         "2024-03-18",
         32500.75
        ],
        [
         5,
         18,
         56,
         5,
         64,
         275.75,
         "2024-01-18",
         3250.0,
         "2024-03-04",
         25000.0
        ],
        [
         29,
         13,
         58,
         29,
         48,
         150.0,
         "2024-01-13",
         2450.0,
         "2024-02-17",
         32500.25
        ],
        [
         24,
         46,
         11,
         24,
         93,
         175.0,
         "2024-02-15",
         4700.0,
         "2024-04-02",
         30000.0
        ],
        [
         70,
         81,
         33,
         70,
         79,
         100.5,
         "2024-03-21",
         4000.0,
         "2024-03-19",
         37500.5
        ],
        [
         43,
         74,
         83,
         43,
         22,
         300.25,
         "2024-03-14",
         1150.0,
         "2024-01-22",
         15000.75
        ],
        [
         45,
         1,
         68,
         45,
         1,
         100.5,
         "2024-01-01",
         100.0,
         "2024-01-01",
         25000.25
        ],
        [
         31,
         50,
         71,
         31,
         30,
         375.25,
         "2024-02-19",
         1550.0,
         "2024-01-30",
         10000.75
        ],
        [
         9,
         32,
         14,
         9,
         28,
         200.75,
         "2024-02-01",
         1450.0,
         "2024-01-28",
         32500.25
        ],
        [
         54,
         89,
         42,
         54,
         23,
         325.0,
         "2024-03-29",
         1200.0,
         "2024-01-23",
         30000.5
        ],
        [
         82,
         83,
         2,
         82,
         71,
         150.0,
         "2024-03-23",
         3600.0,
         "2024-03-11",
         20000.5
        ],
        [
         93,
         87,
         79,
         93,
         72,
         225.5,
         "2024-03-27",
         3650.0,
         "2024-03-12",
         15000.25
        ],
        [
         80,
         99,
         30,
         80,
         89,
         325.0,
         "2024-04-08",
         4500.0,
         "2024-03-29",
         37500.0
        ],
        [
         25,
         26,
         66,
         25,
         84,
         175.0,
         "2024-01-26",
         4250.0,
         "2024-03-24",
         25000.25
        ],
        [
         8,
         68,
         67,
         8,
         37,
         275.75,
         "2024-03-08",
         1900.0,
         "2024-02-06",
         27500.0
        ],
        [
         16,
         58,
         18,
         16,
         65,
         275.75,
         "2024-02-27",
         3300.0,
         "2024-03-05",
         17500.0
        ],
        [
         39,
         94,
         74,
         39,
         58,
         300.25,
         "2024-04-03",
         2950.0,
         "2024-02-27",
         32500.75
        ],
        [
         42,
         54,
         36,
         42,
         31,
         300.25,
         "2024-02-23",
         1600.0,
         "2024-01-31",
         20000.5
        ],
        [
         46,
         null,
         24,
         46,
         95,
         null,
         null,
         4800.0,
         "2024-04-04",
         17500.5
        ],
        [
         100,
         null,
         50,
         100,
         null,
         null,
         null,
         null,
         null,
         37500.0
        ],
        [
         64,
         14,
         12,
         2,
         91,
         300.25,
         "2024-01-14",
         4600.0,
         "2024-03-31",
         20000.75
        ],
        [
         86,
         53,
         21,
         20,
         29,
         150.0,
         "2024-02-22",
         1500.0,
         "2024-01-29",
         37500.0
        ],
        [
         2,
         82,
         12,
         64,
         33,
         200.75,
         "2024-03-22",
         1700.0,
         "2024-02-02",
         30000.0
        ],
        [
         20,
         60,
         21,
         86,
         35,
         375.25,
         "2024-02-29",
         1800.0,
         "2024-02-04",
         17500.5
        ],
        [
         64,
         14,
         12,
         64,
         33,
         300.25,
         "2024-01-14",
         1700.0,
         "2024-02-02",
         30000.0
        ],
        [
         86,
         53,
         21,
         86,
         35,
         150.0,
         "2024-02-22",
         1800.0,
         "2024-02-04",
         17500.5
        ],
        [
         33,
         70,
         85,
         33,
         12,
         375.25,
         "2024-03-10",
         650.0,
         "2024-01-12",
         15000.25
        ],
        [
         21,
         86,
         53,
         21,
         20,
         175.0,
         "2024-03-26",
         1050.0,
         "2024-01-20",
         10000.25
        ],
        [
         12,
         64,
         81,
         12,
         5,
         300.25,
         "2024-03-04",
         300.0,
         "2024-01-05",
         20000.0
        ]
       ],
       "datasetInfos": [],
       "dbfsResultPath": null,
       "isJsonSchema": true,
       "metadata": {},
       "overflow": false,
       "plotOptions": {
        "customPlotOptions": {},
        "displayType": "table",
        "pivotAggregation": null,
        "pivotColumns": null,
        "xColumns": null,
        "yColumns": null
       },
       "removedWidgets": [],
       "schema": [
        {
         "metadata": "{}",
         "name": "account_id",
         "type": "\"integer\""
        },
        {
         "metadata": "{}",
         "name": "transaction_id",
         "type": "\"integer\""
        },
        {
         "metadata": "{}",
         "name": "customer_id",
         "type": "\"integer\""
        },
        {
         "metadata": "{}",
         "name": "loan_id",
         "type": "\"integer\""
        },
        {
         "metadata": "{}",
         "name": "payment_id",
         "type": "\"integer\""
        },
        {
         "metadata": "{}",
         "name": "transaction_amount",
         "type": "\"double\""
        },
        {
         "metadata": "{}",
         "name": "transaction_date",
         "type": "\"date\""
        },
        {
         "metadata": "{}",
         "name": "payment_amount",
         "type": "\"double\""
        },
        {
         "metadata": "{}",
         "name": "payment_date",
         "type": "\"date\""
        },
        {
         "metadata": "{}",
         "name": "loan_amount",
         "type": "\"double\""
        }
       ],
       "type": "table"
      }
     },
     "output_type": "display_data"
    }
   ],
   "source": [
    "from pyspark.sql.functions import col\n",
    "\n",
    "# Merge all together based on correct keys\n",
    "final_df = accounts_df.join(customers_df, \"customer_id\", \"inner\")\\\n",
    "    .join(loans_df, \"customer_id\", \"left\")\\\n",
    "    .join(loan_payments_df, \"loan_id\", \"left\")\\\n",
    "    .join(transactions_df, \"account_id\", \"left\")\\\n",
    "    .select(\n",
    "        col(\"account_id\"),\n",
    "        col(\"transaction_id\"),\n",
    "        col(\"customer_id\"),\n",
    "        col(\"loan_id\"),\n",
    "        col(\"payment_id\"),\n",
    "        col(\"transaction_amount\"),\n",
    "        col(\"transaction_date\"),\n",
    "        col(\"payment_amount\"),\n",
    "        col(\"payment_date\"),\n",
    "        col(\"loan_amount\")\n",
    "    )\n",
    "\n",
    "display(final_df)"
   ]
  },
  {
   "cell_type": "code",
   "execution_count": 0,
   "metadata": {
    "application/vnd.databricks.v1+cell": {
     "cellMetadata": {
      "byteLimit": 2048000,
      "rowLimit": 10000
     },
     "inputWidgets": {},
     "nuid": "68b7757c-17bb-4aa5-a0b9-d5a4eaf5530c",
     "showTitle": false,
     "tableResultSettingsMap": {},
     "title": ""
    }
   },
   "outputs": [],
   "source": [
    "from pyspark.sql.functions import current_timestamp\n",
    "\n",
    "# Remove Duplicates for merged file\n",
    "final_df = final_df.dropDuplicates([\"account_id\", \"transaction_id\", \"customer_id\", \"loan_id\", \"payment_id\"])\n",
    "\n",
    "# Save Final Cleaned File in Delta Format\n",
    "final_df.write.format(\"delta\").mode(\"overwrite\").save(\"/mnt/project2/silver/merged_data_delta\")"
   ]
  }
 ],
 "metadata": {
  "application/vnd.databricks.v1+notebook": {
   "computePreferences": null,
   "dashboards": [],
   "environmentMetadata": {
    "base_environment": "",
    "environment_version": "2"
   },
   "inputWidgetPreferences": null,
   "language": "python",
   "notebookMetadata": {
    "pythonIndentUnit": 4
   },
   "notebookName": "bronze to silver",
   "widgets": {}
  },
  "language_info": {
   "name": "python"
  }
 },
 "nbformat": 4,
 "nbformat_minor": 0
}