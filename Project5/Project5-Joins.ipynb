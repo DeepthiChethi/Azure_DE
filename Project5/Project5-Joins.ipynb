{
 "cells": [
  {
   "cell_type": "code",
   "execution_count": 0,
   "metadata": {
    "application/vnd.databricks.v1+cell": {
     "cellMetadata": {
      "byteLimit": 2048000,
      "rowLimit": 10000
     },
     "inputWidgets": {},
     "nuid": "af96d4d4-2475-4c75-bfee-1621685f0a97",
     "showTitle": false,
     "tableResultSettingsMap": {},
     "title": ""
    }
   },
   "outputs": [
    {
     "output_type": "stream",
     "name": "stdout",
     "output_type": "stream",
     "text": [
      "+------+--------+----------+\n|emp_id|emp_name|emp_salary|\n+------+--------+----------+\n|     1|   Harry|      1000|\n|     2|    John|      2000|\n|     3|    Ravi|      3000|\n|     4|    Ravi|      4000|\n+------+--------+----------+\n\n+------+----------+\n|emp_id|department|\n+------+----------+\n|     1|        HR|\n|     2|   Finance|\n|     4|        IT|\n+------+----------+\n\n"
     ]
    }
   ],
   "source": [
    "#creating  sample dataframe\n",
    "from pyspark.sql import SparkSession\n",
    "from pyspark.sql.functions import col\n",
    "#sample data from Employees\n",
    "emp_data=[(1,\"Harry\",1000),(2,\"John\",2000),(3,\"Ravi\",3000),(4,\"Ravi\",4000)]\n",
    "emp_column=[\"emp_id\",\"emp_name\",\"emp_salary\"]\n",
    "df_emp=spark.createDataFrame(emp_data,emp_column)\n",
    "\n",
    "#sample data for dept\n",
    "dept_data = [(1, \"HR\"), (2, \"Finance\"), (4, \"IT\")]\n",
    "dept_columns = [\"emp_id\", \"department\"]\n",
    "df_dept = spark.createDataFrame(dept_data, dept_columns)\n",
    "  \n",
    "df_emp.show()\n",
    "df_dept.show()"
   ]
  },
  {
   "cell_type": "code",
   "execution_count": 0,
   "metadata": {
    "application/vnd.databricks.v1+cell": {
     "cellMetadata": {
      "byteLimit": 2048000,
      "rowLimit": 10000
     },
     "inputWidgets": {},
     "nuid": "e1553a38-034f-4b52-ba70-ad872fcf7bcd",
     "showTitle": false,
     "tableResultSettingsMap": {},
     "title": ""
    }
   },
   "outputs": [
    {
     "output_type": "stream",
     "name": "stdout",
     "output_type": "stream",
     "text": [
      "+------+--------+----------+----------+\n|emp_id|emp_name|emp_salary|department|\n+------+--------+----------+----------+\n|     1|   Harry|      1000|        HR|\n|     2|    John|      2000|   Finance|\n|     4|    Ravi|      4000|        IT|\n+------+--------+----------+----------+\n\n"
     ]
    }
   ],
   "source": [
    "#inner Join\n",
    "df_inner=df_emp.join(df_dept,on='emp_id',how=\"inner\")\n",
    "df_inner.show()"
   ]
  },
  {
   "cell_type": "code",
   "execution_count": 0,
   "metadata": {
    "application/vnd.databricks.v1+cell": {
     "cellMetadata": {
      "byteLimit": 2048000,
      "rowLimit": 10000
     },
     "inputWidgets": {},
     "nuid": "6b1fd39b-11c0-418b-801f-c54afe7f68df",
     "showTitle": false,
     "tableResultSettingsMap": {},
     "title": ""
    }
   },
   "outputs": [
    {
     "output_type": "stream",
     "name": "stdout",
     "output_type": "stream",
     "text": [
      "+------+--------+----------+----------+\n|emp_id|emp_name|emp_salary|department|\n+------+--------+----------+----------+\n|     1|   Harry|      1000|        HR|\n|     2|    John|      2000|   Finance|\n|     3|    Ravi|      3000|      NULL|\n|     4|    Ravi|      4000|        IT|\n+------+--------+----------+----------+\n\n"
     ]
    }
   ],
   "source": [
    "#left Join\n",
    "df_left=df_emp.join(df_dept,on='emp_id',how=\"left\")\n",
    "df_left.show()"
   ]
  },
  {
   "cell_type": "code",
   "execution_count": 0,
   "metadata": {
    "application/vnd.databricks.v1+cell": {
     "cellMetadata": {
      "byteLimit": 2048000,
      "rowLimit": 10000
     },
     "inputWidgets": {},
     "nuid": "6cc1bc6a-3abd-4db5-aaa2-73ff458cbc1b",
     "showTitle": false,
     "tableResultSettingsMap": {},
     "title": ""
    }
   },
   "outputs": [
    {
     "output_type": "stream",
     "name": "stdout",
     "output_type": "stream",
     "text": [
      "+------+--------+----------+----------+\n|emp_id|emp_name|emp_salary|department|\n+------+--------+----------+----------+\n|     1|   Harry|      1000|        HR|\n|     2|    John|      2000|   Finance|\n|     4|    Ravi|      4000|        IT|\n+------+--------+----------+----------+\n\n"
     ]
    }
   ],
   "source": [
    "#right Join\n",
    "df_right=df_emp.join(df_dept,on='emp_id',how=\"right\")\n",
    "df_right.show()"
   ]
  },
  {
   "cell_type": "code",
   "execution_count": 0,
   "metadata": {
    "application/vnd.databricks.v1+cell": {
     "cellMetadata": {
      "byteLimit": 2048000,
      "rowLimit": 10000
     },
     "inputWidgets": {},
     "nuid": "faaec25a-8bc3-4a20-b747-74434478c1ef",
     "showTitle": false,
     "tableResultSettingsMap": {},
     "title": ""
    }
   },
   "outputs": [
    {
     "output_type": "stream",
     "name": "stdout",
     "output_type": "stream",
     "text": [
      "+------+--------+----------+----------+\n|emp_id|emp_name|emp_salary|department|\n+------+--------+----------+----------+\n|     1|   Harry|      1000|        HR|\n|     2|    John|      2000|   Finance|\n|     3|    Ravi|      3000|      NULL|\n|     4|    Ravi|      4000|        IT|\n+------+--------+----------+----------+\n\n"
     ]
    }
   ],
   "source": [
    "#full outer Join\n",
    "df_outer=df_emp.join(df_dept,on='emp_id',how=\"outer\")\n",
    "df_outer.show()"
   ]
  }
 ],
 "metadata": {
  "application/vnd.databricks.v1+notebook": {
   "computePreferences": null,
   "dashboards": [],
   "environmentMetadata": {
    "base_environment": "",
    "environment_version": "2"
   },
   "inputWidgetPreferences": null,
   "language": "python",
   "notebookMetadata": {
    "pythonIndentUnit": 4
   },
   "notebookName": "Project5-Joins",
   "widgets": {}
  },
  "language_info": {
   "name": "python"
  }
 },
 "nbformat": 4,
 "nbformat_minor": 0
}