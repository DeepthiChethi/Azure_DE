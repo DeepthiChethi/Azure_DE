{
 "cells": [
  {
   "cell_type": "code",
   "execution_count": 0,
   "metadata": {
    "application/vnd.databricks.v1+cell": {
     "cellMetadata": {
      "byteLimit": 2048000,
      "rowLimit": 10000
     },
     "inputWidgets": {},
     "nuid": "6a4f5767-b51a-421f-8624-cb629539824c",
     "showTitle": false,
     "tableResultSettingsMap": {},
     "title": ""
    }
   },
   "outputs": [
    {
     "output_type": "stream",
     "name": "stdout",
     "output_type": "stream",
     "text": [
      "+---+--------+---+\n| id|    name|age|\n+---+--------+---+\n|  1|  Monica| 34|\n|  2|Chandler| 45|\n|  3|    Ross| 50|\n|  4|  Rachel| 30|\n|  5|    Joey| 40|\n|  6|  Phoebe| 35|\n+---+--------+---+\n\n"
     ]
    }
   ],
   "source": [
    "from pyspark.sql import SparkSession\n",
    "from pyspark.sql import Row\n",
    "#Sample data\n",
    "data =[(1,\"Monica\",34),(2,\"Chandler\",45),(3,\"Ross\",50),(4,\"Rachel\",30),(5,\"Joey\",40),(6,\"Phoebe\",35)]\n",
    "columns =[\"id\",\"name\",\"age\"]\n",
    "#create dataframe\n",
    "df=spark.createDataFrame(data,columns)\n",
    "df.show()"
   ]
  },
  {
   "cell_type": "code",
   "execution_count": 0,
   "metadata": {
    "application/vnd.databricks.v1+cell": {
     "cellMetadata": {
      "byteLimit": 2048000,
      "rowLimit": 10000
     },
     "inputWidgets": {},
     "nuid": "2b777602-92cd-4b53-a5d1-c6f158d8de9f",
     "showTitle": false,
     "tableResultSettingsMap": {},
     "title": ""
    }
   },
   "outputs": [
    {
     "output_type": "stream",
     "name": "stdout",
     "output_type": "stream",
     "text": [
      "+------+--------+-------+\n|userid|username|userage|\n+------+--------+-------+\n|     1|  Monica|     34|\n|     2|Chandler|     45|\n|     3|    Ross|     50|\n|     4|  Rachel|     30|\n|     5|    Joey|     40|\n|     6|  Phoebe|     35|\n+------+--------+-------+\n\n"
     ]
    }
   ],
   "source": [
    "df=df.withColumnRenamed(\"id\",\"userid\")\\\n",
    "    .withColumnRenamed(\"name\",\"username\")\\\n",
    "        .withColumnRenamed(\"age\",\"userage\")\n",
    "df.show()"
   ]
  }
 ],
 "metadata": {
  "application/vnd.databricks.v1+notebook": {
   "computePreferences": null,
   "dashboards": [],
   "environmentMetadata": {
    "base_environment": "",
    "environment_version": "2"
   },
   "inputWidgetPreferences": null,
   "language": "python",
   "notebookMetadata": {
    "pythonIndentUnit": 4
   },
   "notebookName": "Project5-Customers",
   "widgets": {}
  },
  "language_info": {
   "name": "python"
  }
 },
 "nbformat": 4,
 "nbformat_minor": 0
}