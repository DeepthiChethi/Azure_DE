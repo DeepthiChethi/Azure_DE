{
 "cells": [
  {
   "cell_type": "code",
   "execution_count": 0,
   "metadata": {
    "application/vnd.databricks.v1+cell": {
     "cellMetadata": {
      "byteLimit": 2048000,
      "rowLimit": 10000
     },
     "inputWidgets": {},
     "nuid": "b45afdc2-b22b-499b-83e6-45d3657cbe91",
     "showTitle": false,
     "tableResultSettingsMap": {},
     "title": ""
    }
   },
   "outputs": [
    {
     "output_type": "stream",
     "name": "stdout",
     "output_type": "stream",
     "text": [
      "+---+-------+---+\n| id|   name|age|\n+---+-------+---+\n|  6|Sathvik|  5|\n|  3| Raghul| 25|\n|  2|  Madhu| 26|\n|  1|Prakash| 32|\n|  5|Ranjana| 34|\n|  4| Thilak| 35|\n+---+-------+---+\n\n+---+-------+---+\n| id|   name|age|\n+---+-------+---+\n|  4| Thilak| 35|\n|  5|Ranjana| 34|\n|  1|Prakash| 32|\n|  2|  Madhu| 26|\n|  3| Raghul| 25|\n|  6|Sathvik|  5|\n+---+-------+---+\n\n"
     ]
    }
   ],
   "source": [
    "from pyspark.sql import SparkSession\n",
    "spark = SparkSession.builder.appName(\"Sorting\").getOrCreate()\n",
    "#sample data\n",
    "data = [(1, \"Prakash\", 32),\n",
    "        (2, \"Madhu\", 26),\n",
    "        (3, \"Raghul\", 25),\n",
    "        (4, \"Thilak\", 35),\n",
    "        (5, \"Ranjana\", 34),\n",
    "        (6, \"Sathvik\", 5)]\n",
    "\n",
    "columns = [\"id\", \"name\", \"age\"]\n",
    "df = spark.createDataFrame(data, columns)\n",
    "df_sorted_asc=df.orderBy(\"age\")\n",
    "df_sorted_desc = df.orderBy(df[\"age\"].desc())\n",
    "\n",
    "df_sorted_asc.show()\n",
    "df_sorted_desc.show()\n"
   ]
  }
 ],
 "metadata": {
  "application/vnd.databricks.v1+notebook": {
   "computePreferences": null,
   "dashboards": [],
   "environmentMetadata": {
    "base_environment": "",
    "environment_version": "2"
   },
   "inputWidgetPreferences": null,
   "language": "python",
   "notebookMetadata": {
    "pythonIndentUnit": 4
   },
   "notebookName": "Project5-Sorted",
   "widgets": {}
  },
  "language_info": {
   "name": "python"
  }
 },
 "nbformat": 4,
 "nbformat_minor": 0
}