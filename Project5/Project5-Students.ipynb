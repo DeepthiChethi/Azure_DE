{
 "cells": [
  {
   "cell_type": "code",
   "execution_count": 0,
   "metadata": {
    "application/vnd.databricks.v1+cell": {
     "cellMetadata": {
      "byteLimit": 2048000,
      "rowLimit": 10000
     },
     "inputWidgets": {},
     "nuid": "55566b98-548b-4f0e-b9e1-d963dc9272d7",
     "showTitle": false,
     "tableResultSettingsMap": {},
     "title": ""
    }
   },
   "outputs": [
    {
     "output_type": "display_data",
     "data": {
      "text/html": [
       "<style scoped>\n",
       "  .table-result-container {\n",
       "    max-height: 300px;\n",
       "    overflow: auto;\n",
       "  }\n",
       "  table, th, td {\n",
       "    border: 1px solid black;\n",
       "    border-collapse: collapse;\n",
       "  }\n",
       "  th, td {\n",
       "    padding: 5px;\n",
       "  }\n",
       "  th {\n",
       "    text-align: left;\n",
       "  }\n",
       "</style><div class='table-result-container'><table class='table-result'><thead style='background-color: white'><tr><th>id</th><th>name</th><th>age</th><th>lastname</th></tr></thead><tbody><tr><td>1</td><td>Madhu</td><td>27</td><td>MadhuGeller</td></tr><tr><td>2</td><td>Teddy</td><td>26</td><td>TeddyGeller</td></tr><tr><td>3</td><td>Maithili</td><td>28</td><td>MaithiliGeller</td></tr><tr><td>4</td><td>Manishaa</td><td>27</td><td>ManishaaGeller</td></tr><tr><td>5</td><td>Ponmala</td><td>27</td><td>PonmalaGeller</td></tr></tbody></table></div>"
      ]
     },
     "metadata": {
      "application/vnd.databricks.v1+output": {
       "addedWidgets": {},
       "aggData": [],
       "aggError": "",
       "aggOverflow": false,
       "aggSchema": [],
       "aggSeriesLimitReached": false,
       "aggType": "",
       "arguments": {},
       "columnCustomDisplayInfos": {},
       "data": [
        [
         1,
         "Madhu",
         27,
         "MadhuGeller"
        ],
        [
         2,
         "Teddy",
         26,
         "TeddyGeller"
        ],
        [
         3,
         "Maithili",
         28,
         "MaithiliGeller"
        ],
        [
         4,
         "Manishaa",
         27,
         "ManishaaGeller"
        ],
        [
         5,
         "Ponmala",
         27,
         "PonmalaGeller"
        ]
       ],
       "datasetInfos": [],
       "dbfsResultPath": null,
       "isJsonSchema": true,
       "metadata": {},
       "overflow": false,
       "plotOptions": {
        "customPlotOptions": {},
        "displayType": "table",
        "pivotAggregation": null,
        "pivotColumns": null,
        "xColumns": null,
        "yColumns": null
       },
       "removedWidgets": [],
       "schema": [
        {
         "metadata": "{}",
         "name": "id",
         "type": "\"long\""
        },
        {
         "metadata": "{}",
         "name": "name",
         "type": "\"string\""
        },
        {
         "metadata": "{}",
         "name": "age",
         "type": "\"long\""
        },
        {
         "metadata": "{}",
         "name": "lastname",
         "type": "\"string\""
        }
       ],
       "type": "table"
      }
     },
     "output_type": "display_data"
    }
   ],
   "source": [
    "from pyspark.sql import SparkSession\n",
    "from pyspark.sql import Row\n",
    "from pyspark.sql.functions import col, concat, lit\n",
    "\n",
    "#sample data\n",
    "data=[(1,\"Madhu\",27),(2,\"Teddy\",26),(3,\"Maithili\",28),(4,\"Manishaa\",27),(5,\"Ponmala\",27)]\n",
    "Columns=[\"id\",\"name\",\"age\"]\n",
    "\n",
    "#createDataFrame\n",
    "df=spark.createDataFrame(data,Columns)\n",
    "df_add_one = df.withColumn(\"lastname\",concat(df.name,lit(\"Geller\")))\n",
    "df_add_one.show()"
   ]
  }
 ],
 "metadata": {
  "application/vnd.databricks.v1+notebook": {
   "computePreferences": null,
   "dashboards": [],
   "environmentMetadata": {
    "base_environment": "",
    "environment_version": "2"
   },
   "inputWidgetPreferences": null,
   "language": "python",
   "notebookMetadata": {
    "pythonIndentUnit": 4
   },
   "notebookName": "Project5-Students",
   "widgets": {}
  },
  "language_info": {
   "name": "python"
  }
 },
 "nbformat": 4,
 "nbformat_minor": 0
}